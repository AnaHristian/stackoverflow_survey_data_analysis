{
 "cells": [
  {
   "cell_type": "markdown",
   "metadata": {},
   "source": [
    "# Where do most software developers live and how happy are they about their jobs?\n",
    "### According to Stack Overflow Annual Developer Survey\n",
    "\n",
    "## Table of Contents\n",
    "<ul>",
    "    <li><a href=\"#intro\">Business Understanding</a></li>\n",
    "    <li><a href=\"#questions\">Data Understanding</a></li>\n",
    "    <li><a href=\"#dw\">Prepare Data</a></li>\n",
    "    <li><a href=\"#eda\">Data Modeling</a></li>\n",
    "    <li><a href=\"#cz\">Evaluate the Results</a></li>\n",
    "</ul></li>"
   ]
  },
  {
   "cell_type": "markdown",
   "metadata": {},
   "source": [
    "<a id='intro'></a>\n",
    "## Business Understanding\n",
    "\n",
    "In this notebook I will be analysing data from Stack Overflow’s annual Developer Survey, the largest survey of people who code around the world. I am focused on five years of reviews, from 2016 to 2020. In particular, I am interested in finding which are the top three countries for software developers and see how happy they are about their jobs."
   ]
  },
  {
   "cell_type": "markdown",
   "metadata": {},
   "source": [
    "<a id='questions'></a>\n",
    "## Data Understanding\n",
    "\n",
    "**Q1:** Where do most software developers live? Here, I am interested in finding the top three countries from the Stack Overflow Annual Developer Survey and find a trend throughout the years of interest (2016-2020).\n",
    "\n",
    "**Q3:** How happy are developers about their jobs?\n",
    "\n",
    "**Q3:** How happy are software developers from the top three countries over the years? Therefore I want to know if there is a trend or if there are differences between the groups related to happiness."
   ]
  },
  {
   "cell_type": "markdown",
   "metadata": {},
   "source": [
    "<a id='dw'></a>\n",
    "## Prepare Data\n",
    "1. <a href=\"#gather\">**Gather**</a>: load in the data: download the last five years of Stack Overflow Survey data, 2015-2016 from [here](https://insights.stackoverflow.com/survey)\n",
    "2. **Asses**: Check for cleanliness - these steps are done in the first notebook, 1_data_gathering.ipynb: \n",
    "    * Check the headers for each year;\n",
    "    * Identify columns of interest for each year: country, job satisfaction\n",
    "    * Check missing values in our data\n",
    "3. <a href=\"#clean\">**Clean**</a>: Trim and clean your dataset for analysis.\n",
    "    * Identify how job satisfaction is defined over the years and find a common scale "
   ]
  },
  {
   "cell_type": "code",
   "execution_count": 1,
   "metadata": {},
   "outputs": [
    {
     "data": {
      "text/html": [
       "<style>.container { width:100% !important; }</style>"
      ],
      "text/plain": [
       "<IPython.core.display.HTML object>"
      ]
     },
     "metadata": {},
     "output_type": "display_data"
    }
   ],
   "source": [
    "import os\n",
    "import numpy as np\n",
    "import pandas as pd\n",
    "import matplotlib.pyplot as plt\n",
    "import seaborn as sns\n",
    "sns.set_style('darkgrid')\n",
    "\n",
    "from IPython.core.display import display, HTML\n",
    "display(HTML(\"<style>.container { width:100% !important; }</style>\"))\n",
    "pd.set_option('display.max_columns', 500)\n",
    "pd.set_option('display.max_rows', 500)\n",
    "pd.set_option('display.max_colwidth', -1)\n",
    "\n",
    "from IPython import display\n",
    "%matplotlib inline"
   ]
  },
  {
   "cell_type": "markdown",
   "metadata": {},
   "source": [
    "<a id='gather'></a>\n",
    "### Load the data "
   ]
  },
  {
   "cell_type": "code",
   "execution_count": 2,
   "metadata": {},
   "outputs": [],
   "source": [
    "PATH_IN = \"data_out\"\n",
    "\n",
    "df_2016 = pd.read_csv(os.path.join(PATH_IN, 'data_2016_raw.csv'))\n",
    "df_2017 = pd.read_csv(os.path.join(PATH_IN, 'data_2017_raw.csv'))\n",
    "df_2018 = pd.read_csv(os.path.join(PATH_IN, 'data_2018_raw.csv'))\n",
    "df_2019 = pd.read_csv(os.path.join(PATH_IN, 'data_2019_raw.csv'))\n",
    "df_2020 = pd.read_csv(os.path.join(PATH_IN, 'data_2020_raw.csv'))"
   ]
  },
  {
   "cell_type": "markdown",
   "metadata": {},
   "source": [
    "<a id='clean'></a>\n",
    "### Clean the data\n",
    "\n",
    "### Map Job Satisfaction for 2016-2020"
   ]
  },
  {
   "cell_type": "markdown",
   "metadata": {},
   "source": [
    "### #1 2016"
   ]
  },
  {
   "cell_type": "code",
   "execution_count": 3,
   "metadata": {},
   "outputs": [],
   "source": [
    "def plot_year_job_satisfaction(df, year):\n",
    "    '''\n",
    "    INPUT\n",
    "        df - a dataframe containing percentages of number of respondents for job satofsaction values\n",
    "        year - year of the survey\n",
    "    OUTPUT\n",
    "        A bar chart for job satisfaction distribution of the dataframe \n",
    "    '''\n",
    "    (df['job_satisfaction'].value_counts()/df['job_satisfaction'].shape[0]*100).plot(kind='bar', figsize=(8, 4));\n",
    "    plt.title(f'Job Satisfaction Distribution {year} (%)');\n",
    "    plt.xlabel('Job Satisfaction')\n",
    "    plt.ylabel('Number of respondents (%)')\n",
    "    plt.show();"
   ]
  },
  {
   "cell_type": "code",
   "execution_count": 4,
   "metadata": {},
   "outputs": [
    {
     "data": {
      "image/png": "[encoded data removed]",
      "text/plain": [
       "<Figure size 576x288 with 1 Axes>"
      ]
     },
     "metadata": {
      "needs_background": "light"
     },
     "output_type": "display_data"
    }
   ],
   "source": [
    "# change dtype\n",
    "# plot 2016\n",
    "plot_year_job_satisfaction(df_2016, 2016)"
   ]
  },
  {
   "cell_type": "code",
   "execution_count": 5,
   "metadata": {},
   "outputs": [],
   "source": [
    "def clean_data(df, map_dict):\n",
    "    '''\n",
    "    INPUT\n",
    "        df - an uncleaned dataframe with different values for job satisfaction\n",
    "        map_dict - dictionary to map job satifsactior\n",
    "    OUTPUT\n",
    "        df - a dataframe with cleaned and remaped job satisfaction values\n",
    "    '''\n",
    "    print(f\"Missing values for: job satisfaction - {df['job_satisfaction'].isnull().sum()}, country - {df['country'].isnull().sum()}\")\n",
    "    df.dropna(subset=['country'], inplace=True)\n",
    "    if df['job_satisfaction'].dtype == float:\n",
    "        df['job_satisfaction'] =  df['job_satisfaction'].fillna(int(df['job_satisfaction'].mean().round()))\n",
    "        df['job_satisfaction'] = df['job_satisfaction'].astype(int).astype(str)\n",
    "    print(map_dict)\n",
    "    df['job_satisfaction'] = df['job_satisfaction'].map(map_dict)\n",
    "    # fill missing values for mean\n",
    "    df['job_satisfaction'] =  df['job_satisfaction'].fillna(int(df['job_satisfaction'].mean().round()))\n",
    "    df = df[['year', 'country', 'job_satisfaction']]\n",
    "    print(df.info())\n",
    "    return df"
   ]
  },
  {
   "cell_type": "markdown",
   "metadata": {},
   "source": [
    "### Handling missing values\n",
    "\n",
    "We have two different types of variables with missing values:\n",
    "1. ```country```: for the purpose of this analysis, I will drop rows with no country added because it is difficult to impute a random value for this field. For building a predictive model, we can one hot encode categorical values with missing rows by creating a new missing column with a value of 1;\n",
    "2. ```job_satisfaction```: for job satisfaction, after mapping the new values for job satisfaction, I will impute null values with the mean job satisfaction.  This method is fast but reduces the variance of the data."
   ]
  },
  {
   "cell_type": "code",
   "execution_count": 6,
   "metadata": {},
   "outputs": [
    {
     "name": "stdout",
     "output_type": "stream",
     "text": [
      "Missing values for: job satisfaction - 15920, country - 502\n",
      "{'I love my job': 5, \"I'm somewhat satisfied with my job\": 4, \"I'm neither satisfied nor dissatisfied\": 3, \"I don't have a job\": 3, \"I'm somewhat dissatisfied with my job\": 2, 'I hate my job': 1}\n",
      "<class 'pandas.core.frame.DataFrame'>\n",
      "Int64Index: 55528 entries, 0 to 56009\n",
      "Data columns (total 3 columns):\n",
      "year                55528 non-null int64\n",
      "country             55528 non-null object\n",
      "job_satisfaction    55528 non-null float64\n",
      "dtypes: float64(1), int64(1), object(1)\n",
      "memory usage: 1.7+ MB\n",
      "None\n"
     ]
    },
    {
     "data": {
      "text/html": [
       "<div>\n",
       "<style scoped>\n",
       "    .dataframe tbody tr th:only-of-type {\n",
       "        vertical-align: middle;\n",
       "    }\n",
       "\n",
       "    .dataframe tbody tr th {\n",
       "        vertical-align: top;\n",
       "    }\n",
       "\n",
       "    .dataframe thead th {\n",
       "        text-align: right;\n",
       "    }\n",
       "</style>\n",
       "<table border=\"1\" class=\"dataframe\">\n",
       "  <thead>\n",
       "    <tr style=\"text-align: right;\">\n",
       "      <th></th>\n",
       "      <th>year</th>\n",
       "      <th>country</th>\n",
       "      <th>job_satisfaction</th>\n",
       "    </tr>\n",
       "  </thead>\n",
       "  <tbody>\n",
       "    <tr>\n",
       "      <th>0</th>\n",
       "      <td>2016</td>\n",
       "      <td>Afghanistan</td>\n",
       "      <td>4.0</td>\n",
       "    </tr>\n",
       "    <tr>\n",
       "      <th>1</th>\n",
       "      <td>2016</td>\n",
       "      <td>Afghanistan</td>\n",
       "      <td>5.0</td>\n",
       "    </tr>\n",
       "    <tr>\n",
       "      <th>2</th>\n",
       "      <td>2016</td>\n",
       "      <td>Afghanistan</td>\n",
       "      <td>4.0</td>\n",
       "    </tr>\n",
       "    <tr>\n",
       "      <th>3</th>\n",
       "      <td>2016</td>\n",
       "      <td>Afghanistan</td>\n",
       "      <td>5.0</td>\n",
       "    </tr>\n",
       "    <tr>\n",
       "      <th>4</th>\n",
       "      <td>2016</td>\n",
       "      <td>Afghanistan</td>\n",
       "      <td>4.0</td>\n",
       "    </tr>\n",
       "  </tbody>\n",
       "</table>\n",
       "</div>"
      ],
      "text/plain": [
       "   year      country  job_satisfaction\n",
       "0  2016  Afghanistan  4.0             \n",
       "1  2016  Afghanistan  5.0             \n",
       "2  2016  Afghanistan  4.0             \n",
       "3  2016  Afghanistan  5.0             \n",
       "4  2016  Afghanistan  4.0             "
      ]
     },
     "execution_count": 6,
     "metadata": {},
     "output_type": "execute_result"
    }
   ],
   "source": [
    "# header dict\n",
    "job_satisfaction_2016 = {'I love my job': 5,\n",
    "                        \"I'm somewhat satisfied with my job\":4, \n",
    "                        \"I'm neither satisfied nor dissatisfied\":3, \"I don't have a job\":3,\n",
    "                        \"I'm somewhat dissatisfied with my job\":2, \n",
    "                        \"I hate my job\":1} \n",
    "\n",
    "df_2016 = df_2016.copy()\n",
    "# clean the dataset\n",
    "df_2016 = clean_data(df_2016, job_satisfaction_2016)\n",
    "df_2016.head()"
   ]
  },
  {
   "cell_type": "code",
   "execution_count": 7,
   "metadata": {},
   "outputs": [
    {
     "data": {
      "image/png": "[encoded data removed]",
      "text/plain": [
       "<Figure size 576x288 with 1 Axes>"
      ]
     },
     "metadata": {
      "needs_background": "light"
     },
     "output_type": "display_data"
    }
   ],
   "source": [
    "# change dtype\n",
    "# plot 2016\n",
    "plot_year_job_satisfaction(df_2016, 2016)"
   ]
  },
  {
   "cell_type": "markdown",
   "metadata": {},
   "source": [
    "### #2 2017"
   ]
  },
  {
   "cell_type": "code",
   "execution_count": 8,
   "metadata": {},
   "outputs": [
    {
     "name": "stdout",
     "output_type": "stream",
     "text": [
      "<class 'pandas.core.frame.DataFrame'>\n",
      "RangeIndex: 51392 entries, 0 to 51391\n",
      "Data columns (total 6 columns):\n",
      "country              51392 non-null object\n",
      "coding_experience    51145 non-null object\n",
      "job_satisfaction     40376 non-null float64\n",
      "programming_lg       36625 non-null object\n",
      "salary               12891 non-null float64\n",
      "year                 51392 non-null int64\n",
      "dtypes: float64(2), int64(1), object(3)\n",
      "memory usage: 2.4+ MB\n"
     ]
    }
   ],
   "source": [
    "df_2017.info()"
   ]
  },
  {
   "cell_type": "code",
   "execution_count": 9,
   "metadata": {},
   "outputs": [
    {
     "data": {
      "image/png": "[encoded data removed]",
      "text/plain": [
       "<Figure size 576x288 with 1 Axes>"
      ]
     },
     "metadata": {
      "needs_background": "light"
     },
     "output_type": "display_data"
    }
   ],
   "source": [
    "# change dtype\n",
    "# plot the distribution\n",
    "plot_year_job_satisfaction(df_2017, 2017)"
   ]
  },
  {
   "cell_type": "code",
   "execution_count": 10,
   "metadata": {},
   "outputs": [
    {
     "data": {
      "text/plain": [
       "6.957078462452943"
      ]
     },
     "execution_count": 10,
     "metadata": {},
     "output_type": "execute_result"
    }
   ],
   "source": [
    "(df_2017['job_satisfaction'].mean())"
   ]
  },
  {
   "cell_type": "code",
   "execution_count": 11,
   "metadata": {},
   "outputs": [
    {
     "name": "stdout",
     "output_type": "stream",
     "text": [
      "Missing values for: job satisfaction - 11016, country - 0\n",
      "{'10': 5, '9': 5, '8': 5, '6': 4, '7': 4, '5': 3, '3': 2, '4': 2, '0': 1, '1': 1, '2': 1}\n",
      "<class 'pandas.core.frame.DataFrame'>\n",
      "Int64Index: 51392 entries, 0 to 51391\n",
      "Data columns (total 3 columns):\n",
      "year                51392 non-null int64\n",
      "country             51392 non-null object\n",
      "job_satisfaction    51392 non-null int64\n",
      "dtypes: int64(2), object(1)\n",
      "memory usage: 1.6+ MB\n",
      "None\n"
     ]
    },
    {
     "data": {
      "text/html": [
       "<div>\n",
       "<style scoped>\n",
       "    .dataframe tbody tr th:only-of-type {\n",
       "        vertical-align: middle;\n",
       "    }\n",
       "\n",
       "    .dataframe tbody tr th {\n",
       "        vertical-align: top;\n",
       "    }\n",
       "\n",
       "    .dataframe thead th {\n",
       "        text-align: right;\n",
       "    }\n",
       "</style>\n",
       "<table border=\"1\" class=\"dataframe\">\n",
       "  <thead>\n",
       "    <tr style=\"text-align: right;\">\n",
       "      <th></th>\n",
       "      <th>year</th>\n",
       "      <th>country</th>\n",
       "      <th>job_satisfaction</th>\n",
       "    </tr>\n",
       "  </thead>\n",
       "  <tbody>\n",
       "    <tr>\n",
       "      <th>0</th>\n",
       "      <td>2017</td>\n",
       "      <td>United States</td>\n",
       "      <td>4</td>\n",
       "    </tr>\n",
       "    <tr>\n",
       "      <th>1</th>\n",
       "      <td>2017</td>\n",
       "      <td>United Kingdom</td>\n",
       "      <td>4</td>\n",
       "    </tr>\n",
       "    <tr>\n",
       "      <th>2</th>\n",
       "      <td>2017</td>\n",
       "      <td>United Kingdom</td>\n",
       "      <td>5</td>\n",
       "    </tr>\n",
       "    <tr>\n",
       "      <th>3</th>\n",
       "      <td>2017</td>\n",
       "      <td>United States</td>\n",
       "      <td>2</td>\n",
       "    </tr>\n",
       "    <tr>\n",
       "      <th>4</th>\n",
       "      <td>2017</td>\n",
       "      <td>Switzerland</td>\n",
       "      <td>5</td>\n",
       "    </tr>\n",
       "  </tbody>\n",
       "</table>\n",
       "</div>"
      ],
      "text/plain": [
       "   year         country  job_satisfaction\n",
       "0  2017  United States   4               \n",
       "1  2017  United Kingdom  4               \n",
       "2  2017  United Kingdom  5               \n",
       "3  2017  United States   2               \n",
       "4  2017  Switzerland     5               "
      ]
     },
     "execution_count": 11,
     "metadata": {},
     "output_type": "execute_result"
    }
   ],
   "source": [
    "# header dict\n",
    "job_satisfaction_2017 = {'10': 5, '9': 5, '8': 5,\n",
    "                        '6':4, '7':4, \n",
    "                        '5':3,\n",
    "                        '3':2, '4':2,\n",
    "                        '0':1, '1':1, '2':1} \n",
    "\n",
    "df_2017 = df_2017.copy()\n",
    "# clean the dataset\n",
    "df_2017 = clean_data(df_2017, job_satisfaction_2017)\n",
    "df_2017.head()"
   ]
  },
  {
   "cell_type": "code",
   "execution_count": 12,
   "metadata": {},
   "outputs": [
    {
     "data": {
      "image/png": "[encoded data removed]",
      "text/plain": [
       "<Figure size 576x288 with 1 Axes>"
      ]
     },
     "metadata": {
      "needs_background": "light"
     },
     "output_type": "display_data"
    }
   ],
   "source": [
    "# change dtype\n",
    "# plot the distribution\n",
    "plot_year_job_satisfaction(df_2017, 2017)"
   ]
  },
  {
   "cell_type": "markdown",
   "metadata": {},
   "source": [
    "### #3 2018"
   ]
  },
  {
   "cell_type": "code",
   "execution_count": 13,
   "metadata": {},
   "outputs": [
    {
     "name": "stdout",
     "output_type": "stream",
     "text": [
      "<class 'pandas.core.frame.DataFrame'>\n",
      "RangeIndex: 98855 entries, 0 to 98854\n",
      "Data columns (total 6 columns):\n",
      "country              98443 non-null object\n",
      "coding_experience    93835 non-null object\n",
      "job_satisfaction     69276 non-null object\n",
      "salary               50578 non-null object\n",
      "programming_lg       78334 non-null object\n",
      "year                 98855 non-null int64\n",
      "dtypes: int64(1), object(5)\n",
      "memory usage: 4.5+ MB\n"
     ]
    }
   ],
   "source": [
    "df_2018.info()"
   ]
  },
  {
   "cell_type": "code",
   "execution_count": 14,
   "metadata": {},
   "outputs": [
    {
     "data": {
      "image/png": "[encoded data removed]",
      "text/plain": [
       "<Figure size 576x288 with 1 Axes>"
      ]
     },
     "metadata": {
      "needs_background": "light"
     },
     "output_type": "display_data"
    }
   ],
   "source": [
    "# change dtype\n",
    "# plot the distribution\n",
    "plot_year_job_satisfaction(df_2018, 2018)"
   ]
  },
  {
   "cell_type": "code",
   "execution_count": 15,
   "metadata": {},
   "outputs": [
    {
     "name": "stdout",
     "output_type": "stream",
     "text": [
      "Missing values for: job satisfaction - 29579, country - 412\n",
      "{'Extremely satisfied': 5, 'Moderately satisfied': 4, 'Slightly satisfied': 4, 'Neither satisfied nor dissatisfied': 3, 'Slightly dissatisfied': 2, 'Moderately dissatisfied': 2, 'Extremely dissatisfied': 1}\n",
      "<class 'pandas.core.frame.DataFrame'>\n",
      "Int64Index: 98443 entries, 0 to 98854\n",
      "Data columns (total 3 columns):\n",
      "year                98443 non-null int64\n",
      "country             98443 non-null object\n",
      "job_satisfaction    98443 non-null float64\n",
      "dtypes: float64(1), int64(1), object(1)\n",
      "memory usage: 3.0+ MB\n",
      "None\n"
     ]
    },
    {
     "data": {
      "text/html": [
       "<div>\n",
       "<style scoped>\n",
       "    .dataframe tbody tr th:only-of-type {\n",
       "        vertical-align: middle;\n",
       "    }\n",
       "\n",
       "    .dataframe tbody tr th {\n",
       "        vertical-align: top;\n",
       "    }\n",
       "\n",
       "    .dataframe thead th {\n",
       "        text-align: right;\n",
       "    }\n",
       "</style>\n",
       "<table border=\"1\" class=\"dataframe\">\n",
       "  <thead>\n",
       "    <tr style=\"text-align: right;\">\n",
       "      <th></th>\n",
       "      <th>year</th>\n",
       "      <th>country</th>\n",
       "      <th>job_satisfaction</th>\n",
       "    </tr>\n",
       "  </thead>\n",
       "  <tbody>\n",
       "    <tr>\n",
       "      <th>0</th>\n",
       "      <td>2018</td>\n",
       "      <td>Kenya</td>\n",
       "      <td>5.0</td>\n",
       "    </tr>\n",
       "    <tr>\n",
       "      <th>1</th>\n",
       "      <td>2018</td>\n",
       "      <td>United Kingdom</td>\n",
       "      <td>2.0</td>\n",
       "    </tr>\n",
       "    <tr>\n",
       "      <th>2</th>\n",
       "      <td>2018</td>\n",
       "      <td>United States</td>\n",
       "      <td>4.0</td>\n",
       "    </tr>\n",
       "    <tr>\n",
       "      <th>3</th>\n",
       "      <td>2018</td>\n",
       "      <td>United States</td>\n",
       "      <td>3.0</td>\n",
       "    </tr>\n",
       "    <tr>\n",
       "      <th>4</th>\n",
       "      <td>2018</td>\n",
       "      <td>South Africa</td>\n",
       "      <td>4.0</td>\n",
       "    </tr>\n",
       "  </tbody>\n",
       "</table>\n",
       "</div>"
      ],
      "text/plain": [
       "   year         country  job_satisfaction\n",
       "0  2018  Kenya           5.0             \n",
       "1  2018  United Kingdom  2.0             \n",
       "2  2018  United States   4.0             \n",
       "3  2018  United States   3.0             \n",
       "4  2018  South Africa    4.0             "
      ]
     },
     "execution_count": 15,
     "metadata": {},
     "output_type": "execute_result"
    }
   ],
   "source": [
    "# header dict\n",
    "job_satisfaction_2018 = {\"Extremely satisfied\": 5,\n",
    "                        \"Moderately satisfied\":4, \"Slightly satisfied\":4, \n",
    "                        \"Neither satisfied nor dissatisfied\":3,\n",
    "                        \"Slightly dissatisfied\":2, \"Moderately dissatisfied\":2,\n",
    "                        \"Extremely dissatisfied\":1} \n",
    "\n",
    "df_2018 = df_2018.copy()\n",
    "# clean the dataset\n",
    "df_2018 = clean_data(df_2018, job_satisfaction_2018)\n",
    "df_2018.head()"
   ]
  },
  {
   "cell_type": "code",
   "execution_count": 16,
   "metadata": {},
   "outputs": [
    {
     "data": {
      "image/png": "[encoded data removed]",
      "text/plain": [
       "<Figure size 576x288 with 1 Axes>"
      ]
     },
     "metadata": {
      "needs_background": "light"
     },
     "output_type": "display_data"
    }
   ],
   "source": [
    "# plot the distribution\n",
    "plot_year_job_satisfaction(df_2018, 2018)"
   ]
  },
  {
   "cell_type": "markdown",
   "metadata": {},
   "source": [
    "### #4 2019"
   ]
  },
  {
   "cell_type": "code",
   "execution_count": 17,
   "metadata": {},
   "outputs": [
    {
     "data": {
      "image/png": "[encoded data removed]",
      "text/plain": [
       "<Figure size 576x288 with 1 Axes>"
      ]
     },
     "metadata": {
      "needs_background": "light"
     },
     "output_type": "display_data"
    }
   ],
   "source": [
    "# plot the distribution\n",
    "plot_year_job_satisfaction(df_2019, 2019)"
   ]
  },
  {
   "cell_type": "code",
   "execution_count": 18,
   "metadata": {},
   "outputs": [
    {
     "name": "stdout",
     "output_type": "stream",
     "text": [
      "Missing values for: job satisfaction - 17895, country - 132\n",
      "{'Very satisfied': 5, 'Slightly satisfied': 4, 'Neither satisfied nor dissatisfied': 3, 'Slightly dissatisfied': 2, 'Very dissatisfied': 1}\n",
      "<class 'pandas.core.frame.DataFrame'>\n",
      "Int64Index: 88751 entries, 0 to 88882\n",
      "Data columns (total 3 columns):\n",
      "year                88751 non-null int64\n",
      "country             88751 non-null object\n",
      "job_satisfaction    88751 non-null float64\n",
      "dtypes: float64(1), int64(1), object(1)\n",
      "memory usage: 2.7+ MB\n",
      "None\n"
     ]
    },
    {
     "data": {
      "text/html": [
       "<div>\n",
       "<style scoped>\n",
       "    .dataframe tbody tr th:only-of-type {\n",
       "        vertical-align: middle;\n",
       "    }\n",
       "\n",
       "    .dataframe tbody tr th {\n",
       "        vertical-align: top;\n",
       "    }\n",
       "\n",
       "    .dataframe thead th {\n",
       "        text-align: right;\n",
       "    }\n",
       "</style>\n",
       "<table border=\"1\" class=\"dataframe\">\n",
       "  <thead>\n",
       "    <tr style=\"text-align: right;\">\n",
       "      <th></th>\n",
       "      <th>year</th>\n",
       "      <th>country</th>\n",
       "      <th>job_satisfaction</th>\n",
       "    </tr>\n",
       "  </thead>\n",
       "  <tbody>\n",
       "    <tr>\n",
       "      <th>0</th>\n",
       "      <td>2019</td>\n",
       "      <td>United Kingdom</td>\n",
       "      <td>4.0</td>\n",
       "    </tr>\n",
       "    <tr>\n",
       "      <th>1</th>\n",
       "      <td>2019</td>\n",
       "      <td>Bosnia and Herzegovina</td>\n",
       "      <td>4.0</td>\n",
       "    </tr>\n",
       "    <tr>\n",
       "      <th>2</th>\n",
       "      <td>2019</td>\n",
       "      <td>Thailand</td>\n",
       "      <td>4.0</td>\n",
       "    </tr>\n",
       "    <tr>\n",
       "      <th>3</th>\n",
       "      <td>2019</td>\n",
       "      <td>United States</td>\n",
       "      <td>4.0</td>\n",
       "    </tr>\n",
       "    <tr>\n",
       "      <th>4</th>\n",
       "      <td>2019</td>\n",
       "      <td>Ukraine</td>\n",
       "      <td>2.0</td>\n",
       "    </tr>\n",
       "  </tbody>\n",
       "</table>\n",
       "</div>"
      ],
      "text/plain": [
       "   year                 country  job_satisfaction\n",
       "0  2019  United Kingdom          4.0             \n",
       "1  2019  Bosnia and Herzegovina  4.0             \n",
       "2  2019  Thailand                4.0             \n",
       "3  2019  United States           4.0             \n",
       "4  2019  Ukraine                 2.0             "
      ]
     },
     "execution_count": 18,
     "metadata": {},
     "output_type": "execute_result"
    }
   ],
   "source": [
    "# header dict\n",
    "job_satisfaction_2019 = {\"Very satisfied\":5, \n",
    "                        \"Slightly satisfied\":4,\n",
    "                        \"Neither satisfied nor dissatisfied\":3, \n",
    "                        \"Slightly dissatisfied\":2,\n",
    "                        \"Very dissatisfied\":1} \n",
    "\n",
    "df_2019 = df_2019.copy()\n",
    "# clean the dataset\n",
    "df_2019 = clean_data(df_2019, job_satisfaction_2019)\n",
    "df_2019.head()"
   ]
  },
  {
   "cell_type": "code",
   "execution_count": 19,
   "metadata": {},
   "outputs": [
    {
     "data": {
      "image/png": "[encoded data removed]",
      "text/plain": [
       "<Figure size 576x288 with 1 Axes>"
      ]
     },
     "metadata": {
      "needs_background": "light"
     },
     "output_type": "display_data"
    }
   ],
   "source": [
    "# plot the new distribution\n",
    "plot_year_job_satisfaction(df_2019, 2019)"
   ]
  },
  {
   "cell_type": "markdown",
   "metadata": {},
   "source": [
    "### #5 2020"
   ]
  },
  {
   "cell_type": "code",
   "execution_count": 20,
   "metadata": {},
   "outputs": [
    {
     "name": "stdout",
     "output_type": "stream",
     "text": [
      "<class 'pandas.core.frame.DataFrame'>\n",
      "RangeIndex: 64461 entries, 0 to 64460\n",
      "Data columns (total 6 columns):\n",
      "salary               34756 non-null float64\n",
      "country              64072 non-null object\n",
      "job_satisfaction     45194 non-null object\n",
      "programming_lg       57378 non-null object\n",
      "coding_experience    57684 non-null object\n",
      "year                 64461 non-null int64\n",
      "dtypes: float64(1), int64(1), object(4)\n",
      "memory usage: 3.0+ MB\n"
     ]
    }
   ],
   "source": [
    "df_2020.info()"
   ]
  },
  {
   "cell_type": "code",
   "execution_count": 21,
   "metadata": {},
   "outputs": [
    {
     "data": {
      "image/png": "[encoded data removed]",
      "text/plain": [
       "<Figure size 576x288 with 1 Axes>"
      ]
     },
     "metadata": {
      "needs_background": "light"
     },
     "output_type": "display_data"
    }
   ],
   "source": [
    "# plot the distribution\n",
    "plot_year_job_satisfaction(df_2020, 2020)"
   ]
  },
  {
   "cell_type": "code",
   "execution_count": 22,
   "metadata": {},
   "outputs": [
    {
     "name": "stdout",
     "output_type": "stream",
     "text": [
      "Missing values for: job satisfaction - 19267, country - 389\n",
      "{'Very satisfied': 5, 'Slightly satisfied': 4, 'Neither satisfied nor dissatisfied': 3, 'Slightly dissatisfied': 2, 'Very dissatisfied': 1}\n",
      "<class 'pandas.core.frame.DataFrame'>\n",
      "Int64Index: 64072 entries, 0 to 64460\n",
      "Data columns (total 3 columns):\n",
      "year                64072 non-null int64\n",
      "country             64072 non-null object\n",
      "job_satisfaction    64072 non-null float64\n",
      "dtypes: float64(1), int64(1), object(1)\n",
      "memory usage: 2.0+ MB\n",
      "None\n"
     ]
    },
    {
     "data": {
      "text/html": [
       "<div>\n",
       "<style scoped>\n",
       "    .dataframe tbody tr th:only-of-type {\n",
       "        vertical-align: middle;\n",
       "    }\n",
       "\n",
       "    .dataframe tbody tr th {\n",
       "        vertical-align: top;\n",
       "    }\n",
       "\n",
       "    .dataframe thead th {\n",
       "        text-align: right;\n",
       "    }\n",
       "</style>\n",
       "<table border=\"1\" class=\"dataframe\">\n",
       "  <thead>\n",
       "    <tr style=\"text-align: right;\">\n",
       "      <th></th>\n",
       "      <th>year</th>\n",
       "      <th>country</th>\n",
       "      <th>job_satisfaction</th>\n",
       "    </tr>\n",
       "  </thead>\n",
       "  <tbody>\n",
       "    <tr>\n",
       "      <th>0</th>\n",
       "      <td>2020</td>\n",
       "      <td>Germany</td>\n",
       "      <td>4.0</td>\n",
       "    </tr>\n",
       "    <tr>\n",
       "      <th>1</th>\n",
       "      <td>2020</td>\n",
       "      <td>United Kingdom</td>\n",
       "      <td>1.0</td>\n",
       "    </tr>\n",
       "    <tr>\n",
       "      <th>2</th>\n",
       "      <td>2020</td>\n",
       "      <td>Russian Federation</td>\n",
       "      <td>4.0</td>\n",
       "    </tr>\n",
       "    <tr>\n",
       "      <th>3</th>\n",
       "      <td>2020</td>\n",
       "      <td>Albania</td>\n",
       "      <td>2.0</td>\n",
       "    </tr>\n",
       "    <tr>\n",
       "      <th>4</th>\n",
       "      <td>2020</td>\n",
       "      <td>United States</td>\n",
       "      <td>4.0</td>\n",
       "    </tr>\n",
       "  </tbody>\n",
       "</table>\n",
       "</div>"
      ],
      "text/plain": [
       "   year             country  job_satisfaction\n",
       "0  2020  Germany             4.0             \n",
       "1  2020  United Kingdom      1.0             \n",
       "2  2020  Russian Federation  4.0             \n",
       "3  2020  Albania             2.0             \n",
       "4  2020  United States       4.0             "
      ]
     },
     "execution_count": 22,
     "metadata": {},
     "output_type": "execute_result"
    }
   ],
   "source": [
    "df_2020 = df_2020.copy()\n",
    "# clean the dataset\n",
    "df_2020 = clean_data(df_2020, job_satisfaction_2019)\n",
    "df_2020.head()"
   ]
  },
  {
   "cell_type": "code",
   "execution_count": 23,
   "metadata": {},
   "outputs": [
    {
     "data": {
      "image/png": "[encoded data removed]",
      "text/plain": [
       "<Figure size 576x288 with 1 Axes>"
      ]
     },
     "metadata": {
      "needs_background": "light"
     },
     "output_type": "display_data"
    }
   ],
   "source": [
    "# plot the new distribution\n",
    "plot_year_job_satisfaction(df_2020, 2020)"
   ]
  },
  {
   "cell_type": "markdown",
   "metadata": {},
   "source": [
    "<a id='eda'></a>\n",
    "### Data Modeling\n",
    "\n",
    "#### Unify clean data for 2016-2020 for job satisfaction and country"
   ]
  },
  {
   "cell_type": "code",
   "execution_count": 24,
   "metadata": {},
   "outputs": [
    {
     "name": "stdout",
     "output_type": "stream",
     "text": [
      "<class 'pandas.core.frame.DataFrame'>\n",
      "RangeIndex: 358186 entries, 0 to 358185\n",
      "Data columns (total 3 columns):\n",
      "year                358186 non-null int64\n",
      "country             358186 non-null object\n",
      "job_satisfaction    358186 non-null float64\n",
      "dtypes: float64(1), int64(1), object(1)\n",
      "memory usage: 8.2+ MB\n"
     ]
    }
   ],
   "source": [
    "# combine our dataframes into a single one\n",
    "df_all = pd.concat([df_2020, df_2019, df_2018, df_2017, df_2016], ignore_index=True, sort=True)[['year', 'country', 'job_satisfaction']]\n",
    "df_all.info()"
   ]
  },
  {
   "cell_type": "code",
   "execution_count": 25,
   "metadata": {},
   "outputs": [
    {
     "data": {
      "image/png": "[encoded data removed]",
      "text/plain": [
       "<Figure size 576x288 with 1 Axes>"
      ]
     },
     "metadata": {
      "needs_background": "light"
     },
     "output_type": "display_data"
    }
   ],
   "source": [
    "# change dtype\n",
    "# plot 2016-2020\n",
    "plot_year_job_satisfaction(df_all, '2016-2020')"
   ]
  },
  {
   "cell_type": "code",
   "execution_count": 26,
   "metadata": {},
   "outputs": [
    {
     "data": {
      "text/plain": [
       "4.0    54.725478\n",
       "5.0    22.727856\n",
       "2.0    10.954085\n",
       "3.0    7.784503 \n",
       "1.0    3.808077 \n",
       "Name: job_satisfaction, dtype: float64"
      ]
     },
     "execution_count": 26,
     "metadata": {},
     "output_type": "execute_result"
    }
   ],
   "source": [
    "(df_all['job_satisfaction'].value_counts()/df_all['job_satisfaction'].shape[0]*100)"
   ]
  },
  {
   "cell_type": "code",
   "execution_count": 27,
   "metadata": {},
   "outputs": [
    {
     "data": {
      "text/plain": [
       "(358186, 3)"
      ]
     },
     "execution_count": 27,
     "metadata": {},
     "output_type": "execute_result"
    }
   ],
   "source": [
    "# shape of the dataset\n",
    "df_all.shape"
   ]
  },
  {
   "cell_type": "code",
   "execution_count": 28,
   "metadata": {},
   "outputs": [
    {
     "data": {
      "text/plain": [
       "265"
      ]
     },
     "execution_count": 28,
     "metadata": {},
     "output_type": "execute_result"
    }
   ],
   "source": [
    "# unique countries\n",
    "df_all.country.nunique()"
   ]
  },
  {
   "cell_type": "code",
   "execution_count": 29,
   "metadata": {},
   "outputs": [],
   "source": [
    "# change year columns as datetime\n",
    "df_all['year'] = pd.to_datetime(df_all[\"year\"].astype(str), format=\"%Y\")"
   ]
  },
  {
   "cell_type": "code",
   "execution_count": 30,
   "metadata": {},
   "outputs": [
    {
     "data": {
      "image/png": "[encoded data removed]",
      "text/plain": [
       "<Figure size 864x432 with 1 Axes>"
      ]
     },
     "metadata": {
      "needs_background": "light"
     },
     "output_type": "display_data"
    }
   ],
   "source": [
    "(df_all['year'].value_counts()/df_all.shape[0]*100).sort_index().plot(style='o-', figsize=(12,6))\n",
    "plt.title(f'Number of respondents 2016-2020 (%)');\n",
    "plt.xlabel('Year')\n",
    "plt.ylabel('Number of respondents (%)')\n",
    "plt.show();"
   ]
  },
  {
   "cell_type": "markdown",
   "metadata": {},
   "source": [
    "From the above line plot we can see an increa in the number of respondents for 2018 and 2019, with a drop in 2020."
   ]
  },
  {
   "cell_type": "code",
   "execution_count": 31,
   "metadata": {},
   "outputs": [
    {
     "data": {
      "image/png": "[encoded data removed]",
      "text/plain": [
       "<Figure size 864x432 with 1 Axes>"
      ]
     },
     "metadata": {
      "needs_background": "light"
     },
     "output_type": "display_data"
    }
   ],
   "source": [
    "df_all.groupby(by=['year'])['job_satisfaction'].mean().sort_index().plot(style='o-', figsize=(12,6));\n",
    "plt.title(f'Yearly Job Satisfaction 2016-2020');\n",
    "plt.xlabel('Year')\n",
    "plt.ylabel('Job Satisfaction (mean)')\n",
    "plt.show();"
   ]
  },
  {
   "cell_type": "code",
   "execution_count": 32,
   "metadata": {},
   "outputs": [
    {
     "data": {
      "text/plain": [
       "year\n",
       "2016-01-01    3.947576\n",
       "2017-01-01    4.053919\n",
       "2018-01-01    3.728513\n",
       "2019-01-01    3.748251\n",
       "2020-01-01    3.740011\n",
       "Name: job_satisfaction, dtype: float64"
      ]
     },
     "execution_count": 32,
     "metadata": {},
     "output_type": "execute_result"
    }
   ],
   "source": [
    "df_all.groupby(by=['year'])['job_satisfaction'].mean()"
   ]
  },
  {
   "cell_type": "markdown",
   "metadata": {},
   "source": [
    "### Q1: Where do most software developers live?\n",
    "### Top three countries"
   ]
  },
  {
   "cell_type": "code",
   "execution_count": 33,
   "metadata": {},
   "outputs": [],
   "source": [
    "# group year and country and count the number of countries for each year\n",
    "s = df_all['country'].groupby(df_all['year']).value_counts()"
   ]
  },
  {
   "cell_type": "code",
   "execution_count": 34,
   "metadata": {},
   "outputs": [
    {
     "data": {
      "text/plain": [
       "array(['United States', 'United Kingdom', 'India', 'Germany'],\n",
       "      dtype=object)"
      ]
     },
     "execution_count": 34,
     "metadata": {},
     "output_type": "execute_result"
    }
   ],
   "source": [
    "# get top three countries by year\n",
    "country_counts = s.groupby(level=[0]).nlargest(3).reset_index(level=[0]).rename(columns={'country':'counts'}).reset_index(level=[1]).reset_index(level=[0], \n",
    "                                                                                                                                drop=True)\n",
    "# unique countries\n",
    "country_counts.country.unique()"
   ]
  },
  {
   "cell_type": "code",
   "execution_count": 35,
   "metadata": {},
   "outputs": [
    {
     "data": {
      "text/html": [
       "<div>\n",
       "<style scoped>\n",
       "    .dataframe tbody tr th:only-of-type {\n",
       "        vertical-align: middle;\n",
       "    }\n",
       "\n",
       "    .dataframe tbody tr th {\n",
       "        vertical-align: top;\n",
       "    }\n",
       "\n",
       "    .dataframe thead th {\n",
       "        text-align: right;\n",
       "    }\n",
       "</style>\n",
       "<table border=\"1\" class=\"dataframe\">\n",
       "  <thead>\n",
       "    <tr style=\"text-align: right;\">\n",
       "      <th></th>\n",
       "      <th>country</th>\n",
       "      <th>year</th>\n",
       "      <th>counts</th>\n",
       "    </tr>\n",
       "  </thead>\n",
       "  <tbody>\n",
       "    <tr>\n",
       "      <th>0</th>\n",
       "      <td>United States</td>\n",
       "      <td>2016-01-01</td>\n",
       "      <td>13539</td>\n",
       "    </tr>\n",
       "    <tr>\n",
       "      <th>1</th>\n",
       "      <td>United Kingdom</td>\n",
       "      <td>2016-01-01</td>\n",
       "      <td>4573</td>\n",
       "    </tr>\n",
       "    <tr>\n",
       "      <th>2</th>\n",
       "      <td>India</td>\n",
       "      <td>2016-01-01</td>\n",
       "      <td>4193</td>\n",
       "    </tr>\n",
       "    <tr>\n",
       "      <th>3</th>\n",
       "      <td>United States</td>\n",
       "      <td>2017-01-01</td>\n",
       "      <td>11455</td>\n",
       "    </tr>\n",
       "    <tr>\n",
       "      <th>4</th>\n",
       "      <td>India</td>\n",
       "      <td>2017-01-01</td>\n",
       "      <td>5197</td>\n",
       "    </tr>\n",
       "  </tbody>\n",
       "</table>\n",
       "</div>"
      ],
      "text/plain": [
       "          country       year  counts\n",
       "0  United States  2016-01-01  13539 \n",
       "1  United Kingdom 2016-01-01  4573  \n",
       "2  India          2016-01-01  4193  \n",
       "3  United States  2017-01-01  11455 \n",
       "4  India          2017-01-01  5197  "
      ]
     },
     "execution_count": 35,
     "metadata": {},
     "output_type": "execute_result"
    }
   ],
   "source": [
    "country_counts.head()"
   ]
  },
  {
   "cell_type": "markdown",
   "metadata": {},
   "source": [
    "To be able to plot these values, we need to manually impute 0 count value for countries with no data."
   ]
  },
  {
   "cell_type": "code",
   "execution_count": 36,
   "metadata": {},
   "outputs": [
    {
     "data": {
      "text/html": [
       "<div>\n",
       "<style scoped>\n",
       "    .dataframe tbody tr th:only-of-type {\n",
       "        vertical-align: middle;\n",
       "    }\n",
       "\n",
       "    .dataframe tbody tr th {\n",
       "        vertical-align: top;\n",
       "    }\n",
       "\n",
       "    .dataframe thead th {\n",
       "        text-align: right;\n",
       "    }\n",
       "</style>\n",
       "<table border=\"1\" class=\"dataframe\">\n",
       "  <thead>\n",
       "    <tr style=\"text-align: right;\">\n",
       "      <th></th>\n",
       "      <th>country</th>\n",
       "      <th>year</th>\n",
       "      <th>counts</th>\n",
       "    </tr>\n",
       "  </thead>\n",
       "  <tbody>\n",
       "    <tr>\n",
       "      <th>0</th>\n",
       "      <td>United Kingdom</td>\n",
       "      <td>2016-01-01</td>\n",
       "      <td>4573</td>\n",
       "    </tr>\n",
       "    <tr>\n",
       "      <th>1</th>\n",
       "      <td>United Kingdom</td>\n",
       "      <td>2017-01-01</td>\n",
       "      <td>4395</td>\n",
       "    </tr>\n",
       "    <tr>\n",
       "      <th>3</th>\n",
       "      <td>United Kingdom</td>\n",
       "      <td>2018-01-01</td>\n",
       "      <td>0</td>\n",
       "    </tr>\n",
       "    <tr>\n",
       "      <th>4</th>\n",
       "      <td>United Kingdom</td>\n",
       "      <td>2019-01-01</td>\n",
       "      <td>0</td>\n",
       "    </tr>\n",
       "    <tr>\n",
       "      <th>2</th>\n",
       "      <td>United Kingdom</td>\n",
       "      <td>2020-01-01</td>\n",
       "      <td>3896</td>\n",
       "    </tr>\n",
       "  </tbody>\n",
       "</table>\n",
       "</div>"
      ],
      "text/plain": [
       "          country       year  counts\n",
       "0  United Kingdom 2016-01-01  4573  \n",
       "1  United Kingdom 2017-01-01  4395  \n",
       "3  United Kingdom 2018-01-01  0     \n",
       "4  United Kingdom 2019-01-01  0     \n",
       "2  United Kingdom 2020-01-01  3896  "
      ]
     },
     "execution_count": 36,
     "metadata": {},
     "output_type": "execute_result"
    }
   ],
   "source": [
    "# uk counts\n",
    "uk = country_counts[country_counts['country'] == 'United Kingdom']\n",
    "# append missing values with a count of 0\n",
    "uk_append = pd.DataFrame()\n",
    "uk_append = pd.DataFrame({'country': ['United Kingdom', 'United Kingdom'],\n",
    "                         'year': [pd.to_datetime('2018-01-01'), pd.to_datetime('2019-01-01')], \n",
    "                         'counts':[0, 0]})\n",
    "uk = uk.append(uk_append, ignore_index=True).sort_values(by=['year'])\n",
    "uk"
   ]
  },
  {
   "cell_type": "code",
   "execution_count": 37,
   "metadata": {},
   "outputs": [
    {
     "data": {
      "text/html": [
       "<div>\n",
       "<style scoped>\n",
       "    .dataframe tbody tr th:only-of-type {\n",
       "        vertical-align: middle;\n",
       "    }\n",
       "\n",
       "    .dataframe tbody tr th {\n",
       "        vertical-align: top;\n",
       "    }\n",
       "\n",
       "    .dataframe thead th {\n",
       "        text-align: right;\n",
       "    }\n",
       "</style>\n",
       "<table border=\"1\" class=\"dataframe\">\n",
       "  <thead>\n",
       "    <tr style=\"text-align: right;\">\n",
       "      <th></th>\n",
       "      <th>country</th>\n",
       "      <th>year</th>\n",
       "      <th>counts</th>\n",
       "    </tr>\n",
       "  </thead>\n",
       "  <tbody>\n",
       "    <tr>\n",
       "      <th>2</th>\n",
       "      <td>Germany</td>\n",
       "      <td>2016-01-01</td>\n",
       "      <td>0</td>\n",
       "    </tr>\n",
       "    <tr>\n",
       "      <th>3</th>\n",
       "      <td>Germany</td>\n",
       "      <td>2017-01-01</td>\n",
       "      <td>0</td>\n",
       "    </tr>\n",
       "    <tr>\n",
       "      <th>0</th>\n",
       "      <td>Germany</td>\n",
       "      <td>2018-01-01</td>\n",
       "      <td>6459</td>\n",
       "    </tr>\n",
       "    <tr>\n",
       "      <th>1</th>\n",
       "      <td>Germany</td>\n",
       "      <td>2019-01-01</td>\n",
       "      <td>5866</td>\n",
       "    </tr>\n",
       "    <tr>\n",
       "      <th>4</th>\n",
       "      <td>Germany</td>\n",
       "      <td>2020-01-01</td>\n",
       "      <td>0</td>\n",
       "    </tr>\n",
       "  </tbody>\n",
       "</table>\n",
       "</div>"
      ],
      "text/plain": [
       "   country       year  counts\n",
       "2  Germany 2016-01-01  0     \n",
       "3  Germany 2017-01-01  0     \n",
       "0  Germany 2018-01-01  6459  \n",
       "1  Germany 2019-01-01  5866  \n",
       "4  Germany 2020-01-01  0     "
      ]
     },
     "execution_count": 37,
     "metadata": {},
     "output_type": "execute_result"
    }
   ],
   "source": [
    "# germany counts\n",
    "germany = country_counts[country_counts['country'] == 'Germany']\n",
    "# append missing values with a count of 0\n",
    "germany_append = pd.DataFrame()\n",
    "germany_append = pd.DataFrame({'country': ['Germany', 'Germany', 'Germany'],\n",
    "                         'year': [pd.to_datetime('2016-01-01'), pd.to_datetime('2017-01-01'), pd.to_datetime('2020-01-01')], \n",
    "                         'counts':[0, 0, 0]})\n",
    "germany = germany.append(germany_append, ignore_index=True).sort_values(by=['year'])\n",
    "germany"
   ]
  },
  {
   "cell_type": "code",
   "execution_count": 38,
   "metadata": {},
   "outputs": [],
   "source": [
    "us_counts = country_counts[country_counts['country'] == 'United States']['counts']\n",
    "india_counts = country_counts[country_counts['country'] == 'India']['counts']\n",
    "uk_counts = uk['counts']\n",
    "germany_counts = germany['counts']\n",
    "\n",
    "ind = np.arange(len(us_counts))  # the x locations for the groups\n",
    "width = 0.1\n",
    "\n",
    "labels = [2016, 2017, 2018, 2019, 2020]\n",
    "locations = ind + width"
   ]
  },
  {
   "cell_type": "code",
   "execution_count": 39,
   "metadata": {},
   "outputs": [
    {
     "data": {
      "image/png": "[encoded data removed]",
      "text/plain": [
       "<Figure size 864x360 with 1 Axes>"
      ]
     },
     "metadata": {
      "needs_background": "light"
     },
     "output_type": "display_data"
    }
   ],
   "source": [
    "f, ax = plt.subplots(figsize=(12,5))\n",
    "\n",
    "plt.bar(ind, us_counts, width, alpha=.7, label='United States')\n",
    "plt.bar(ind + width, india_counts, width, alpha=.7, label='India')\n",
    "plt.bar(ind + width*2, uk_counts, width, alpha=.7, label='U.K.')\n",
    "plt.bar(ind + width*3, germany_counts, width, alpha=.7, label='Germany')\n",
    "\n",
    "# title and label\n",
    "plt.title('Top three contries for job satisfaction respondents 2016-2020', fontsize = 14)\n",
    "plt.xlabel('Year', fontsize = 12)\n",
    "plt.ylabel('Number of respondents', fontsize = 12)\n",
    "plt.xticks(locations, labels, fontsize = 12)\n",
    "ax.legend(fontsize = 12)\n",
    "plt.show();"
   ]
  },
  {
   "cell_type": "markdown",
   "metadata": {},
   "source": [
    "We can see that from 2016 to 2020, the United States, United Kingdom, India and Germany are the top three countries where most software developers live. Clearly, the United States has most of the software developers. India is in the second position for 2016-2020. The United Kingdom is the third country with most developers in 2016, 2017 and 2020. Meanwhile, in 2018 and 2019 we have Germany in third place."
   ]
  },
  {
   "cell_type": "code",
   "execution_count": 40,
   "metadata": {},
   "outputs": [
    {
     "data": {
      "text/plain": [
       "['United States', 'United Kingdom', 'India', 'Germany']"
      ]
     },
     "execution_count": 40,
     "metadata": {},
     "output_type": "execute_result"
    }
   ],
   "source": [
    "# unique countries\n",
    "top_3_countries = list(country_counts.country.unique())\n",
    "top_3_countries"
   ]
  },
  {
   "cell_type": "markdown",
   "metadata": {},
   "source": [
    "### Q2: How happy are software developers from the top three countries over the years? "
   ]
  },
  {
   "cell_type": "code",
   "execution_count": 41,
   "metadata": {},
   "outputs": [],
   "source": [
    "df_all_top3 = df_all[df_all['country'].isin(top_3_countries)].reset_index(drop=True)"
   ]
  },
  {
   "cell_type": "code",
   "execution_count": 42,
   "metadata": {},
   "outputs": [
    {
     "data": {
      "text/html": [
       "<div>\n",
       "<style scoped>\n",
       "    .dataframe tbody tr th:only-of-type {\n",
       "        vertical-align: middle;\n",
       "    }\n",
       "\n",
       "    .dataframe tbody tr th {\n",
       "        vertical-align: top;\n",
       "    }\n",
       "\n",
       "    .dataframe thead th {\n",
       "        text-align: right;\n",
       "    }\n",
       "</style>\n",
       "<table border=\"1\" class=\"dataframe\">\n",
       "  <thead>\n",
       "    <tr style=\"text-align: right;\">\n",
       "      <th></th>\n",
       "      <th>year</th>\n",
       "      <th>country</th>\n",
       "      <th>mean_job_satisfaction</th>\n",
       "    </tr>\n",
       "  </thead>\n",
       "  <tbody>\n",
       "    <tr>\n",
       "      <th>0</th>\n",
       "      <td>2016-01-01</td>\n",
       "      <td>Germany</td>\n",
       "      <td>3.942570</td>\n",
       "    </tr>\n",
       "    <tr>\n",
       "      <th>1</th>\n",
       "      <td>2016-01-01</td>\n",
       "      <td>India</td>\n",
       "      <td>3.932268</td>\n",
       "    </tr>\n",
       "    <tr>\n",
       "      <th>2</th>\n",
       "      <td>2016-01-01</td>\n",
       "      <td>United Kingdom</td>\n",
       "      <td>3.934179</td>\n",
       "    </tr>\n",
       "    <tr>\n",
       "      <th>3</th>\n",
       "      <td>2016-01-01</td>\n",
       "      <td>United States</td>\n",
       "      <td>3.980427</td>\n",
       "    </tr>\n",
       "    <tr>\n",
       "      <th>4</th>\n",
       "      <td>2017-01-01</td>\n",
       "      <td>Germany</td>\n",
       "      <td>4.075549</td>\n",
       "    </tr>\n",
       "  </tbody>\n",
       "</table>\n",
       "</div>"
      ],
      "text/plain": [
       "        year         country  mean_job_satisfaction\n",
       "0 2016-01-01  Germany         3.942570             \n",
       "1 2016-01-01  India           3.932268             \n",
       "2 2016-01-01  United Kingdom  3.934179             \n",
       "3 2016-01-01  United States   3.980427             \n",
       "4 2017-01-01  Germany         4.075549             "
      ]
     },
     "execution_count": 42,
     "metadata": {},
     "output_type": "execute_result"
    }
   ],
   "source": [
    "df_all_top3_meanjs = df_all_top3.groupby(by=['year', 'country'], \n",
    "                    as_index=False)['job_satisfaction'].mean().rename(columns={'job_satisfaction':'mean_job_satisfaction'})\n",
    "df_all_top3_meanjs.head()"
   ]
  },
  {
   "cell_type": "code",
   "execution_count": 43,
   "metadata": {},
   "outputs": [
    {
     "data": {
      "text/plain": [
       "['United States', 'United Kingdom', 'India', 'Germany']"
      ]
     },
     "execution_count": 43,
     "metadata": {},
     "output_type": "execute_result"
    }
   ],
   "source": [
    "top_3_countries"
   ]
  },
  {
   "cell_type": "code",
   "execution_count": 44,
   "metadata": {},
   "outputs": [
    {
     "data": {
      "image/png": "[encoded data removed]",
      "text/plain": [
       "<Figure size 1080x576 with 1 Axes>"
      ]
     },
     "metadata": {
      "needs_background": "light"
     },
     "output_type": "display_data"
    }
   ],
   "source": [
    "# reorder for consistency\n",
    "top_3_countries = ['United States', 'India', 'United Kingdom', 'Germany']\n",
    "\n",
    "# initialise empty dict\n",
    "country_meanjs_dict = dict()\n",
    "# for each country add their mean job satisfaction\n",
    "for country in top_3_countries:\n",
    "    country_meanjs_dict[country] = list(df_all_top3_meanjs[df_all_top3_meanjs['country'] == country]['mean_job_satisfaction'])\n",
    "    \n",
    "f, ax = plt.subplots(figsize=(15,8))\n",
    "# plot each job satisfaction\n",
    "for country, mean_js in country_meanjs_dict.items():\n",
    "    plt.plot(labels, mean_js, alpha=.7, label=country, marker='o')\n",
    "    \n",
    "plt.xticks(labels, fontsize = 12)\n",
    "plt.title('Top three countries job satisfaction 2016-2020', fontsize = 14)\n",
    "plt.xlabel('Year', fontsize = 12)\n",
    "plt.ylabel('Job satisfaction (mean)', fontsize = 12)\n",
    "plt.legend(loc='best', fontsize = 12)\n",
    "plt.show();"
   ]
  },
  {
   "cell_type": "markdown",
   "metadata": {},
   "source": [
    "#### From the above line plot, we can identify two different groups related to job satisfaction:\n",
    "\n",
    "1. Software developers in the United States, United Kingdom and India look very similar according to their job satisfaction. We can see that they have an overall higher satisfaction than software developers from India. They are slightly satisfied towards moderately satisfied, with a mean job satisfaction between 3.7 and almost 4.2. Also, we can see a little decrease in satisfaction from 2017 but it is still in the upper side overall satisfaction.\n",
    "2. Meanwhile, for software developers from India, we can point a downwards trend of job satisfaction from 2016 to 2019. Also, let’s note that mean satisfaction for India is above 3.5 and we can see in 2020 a slightly increase in job satisfaction."
   ]
  },
  {
   "cell_type": "markdown",
   "metadata": {},
   "source": [
    "<a id='cz'></a>\n",
    "## Evaluate the Results\n",
    "\n",
    "1. The US, India, UK and Germany are the top three countries software developers live in 2016 to 2020, according to Stack Overflow Annual Developer Survey, the largest survey of people who code around the world.\n",
    "2. Related to how happy they are as software developers, we found two groups. One from the US, UK and Germany, very similar, they are slightly happy about their jobs. The second group, from India, we identified a slightly downwards trend of job satisfaction from 2016 to 2019, with an increase in 2020. But, they are still above 3.5 job satisfaction, meaning a slightly satisfied view about their job. "
   ]
  },
  {
   "cell_type": "code",
   "execution_count": null,
   "metadata": {},
   "outputs": [],
   "source": []
  }
 ],
 "metadata": {
  "kernelspec": {
   "display_name": "Python 3",
   "language": "python",
   "name": "python3"
  },
  "language_info": {
   "codemirror_mode": {
    "name": "ipython",
    "version": 3
   },
   "file_extension": ".py",
   "mimetype": "text/x-python",
   "name": "python",
   "nbconvert_exporter": "python",
   "pygments_lexer": "ipython3",
   "version": "3.7.3"
  }
 },
 "nbformat": 4,
 "nbformat_minor": 2
}
