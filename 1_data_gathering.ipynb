{
 "cells": [
  {
   "cell_type": "markdown",
   "metadata": {},
   "source": [
    "### Stack Overflow Survey - Multiple Years\n",
    "\n",
    "- Download the last five years of Stack Overflow Survey data, 2016-2020, from [here](https://insights.stackoverflow.com/survey);\n",
    "- Checkout defferent types of headers;\n",
    "- Unify headers for columns of interest;\n",
    "- Export raw data with unified header as csv;"
   ]
  },
  {
   "cell_type": "code",
   "execution_count": 33,
   "metadata": {},
   "outputs": [
    {
     "data": {
      "text/html": [
       "<style>.container { width:100% !important; }</style>"
      ],
      "text/plain": [
       "<IPython.core.display.HTML object>"
      ]
     },
     "metadata": {},
     "output_type": "display_data"
    }
   ],
   "source": [
    "import os\n",
    "import numpy as np\n",
    "import pandas as pd\n",
    "import matplotlib.pyplot as plt\n",
    "import seaborn as sns\n",
    "sns.set_style('darkgrid')\n",
    "\n",
    "from IPython.core.display import display, HTML\n",
    "display(HTML(\"<style>.container { width:100% !important; }</style>\"))\n",
    "pd.set_option('display.max_columns', 500)\n",
    "pd.set_option('display.max_rows', 500)\n",
    "pd.set_option('display.max_colwidth', -1)\n",
    "\n",
    "from IPython import display\n",
    "%matplotlib inline"
   ]
  },
  {
   "cell_type": "markdown",
   "metadata": {},
   "source": [
    "### Data wrangling\n",
    "\n",
    "#### Gather the data"
   ]
  },
  {
   "cell_type": "code",
   "execution_count": 34,
   "metadata": {},
   "outputs": [],
   "source": [
    "PATH_IN = \"data_in\"\n",
    "PATH_OUT = \"data_out\"\n",
    "\n",
    "filename = \"survey_results_public.csv\""
   ]
  },
  {
   "cell_type": "code",
   "execution_count": 35,
   "metadata": {},
   "outputs": [
    {
     "name": "stdout",
     "output_type": "stream",
     "text": [
      "data_in\\2011\\survey_results_public.csv\n",
      "data_in\\2012\\survey_results_public.csv\n",
      "data_in\\2013\\survey_results_public.csv\n",
      "data_in\\2014\\survey_results_public.csv\n",
      "data_in\\2015\\survey_results_public.csv\n",
      "data_in\\2016\\survey_results_public.csv\n",
      "data_in\\2017\\survey_results_public.csv\n",
      "data_in\\2018\\survey_results_public.csv\n",
      "data_in\\2019\\survey_results_public.csv\n",
      "data_in\\2020\\survey_results_public.csv\n"
     ]
    }
   ],
   "source": [
    "# check out all the data avalable\n",
    "for dirname in os.listdir(PATH_IN):\n",
    "    print(os.path.join(PATH_IN, dirname, filename))"
   ]
  },
  {
   "cell_type": "code",
   "execution_count": 36,
   "metadata": {},
   "outputs": [],
   "source": [
    "def load_df(year):\n",
    "    '''\n",
    "    INPUT\n",
    "        year - the year we want to load the data survey for\n",
    "    OUTPUT\n",
    "        df - survey data for that year\n",
    "    '''\n",
    "    \n",
    "    df = pd.read_csv(os.path.join(PATH_IN, year, filename), \n",
    "                      usecols=list(headers[f'header_{year}'].keys()), \n",
    "                      dtype=headers[f'header_{year}'],\n",
    "                      encoding = \"ISO-8859-1\",\n",
    "                      low_memory=False)\n",
    "    df['year'] = year\n",
    "    df.rename(columns=headers[f'map_header_{year}'], inplace=True)\n",
    "    return df"
   ]
  },
  {
   "cell_type": "markdown",
   "metadata": {},
   "source": [
    "#### Assess the data"
   ]
  },
  {
   "cell_type": "markdown",
   "metadata": {},
   "source": [
    "### Unify headers\n",
    "\n",
    "Define ```headers``` dictionary for years of interest:\n",
    "- first, we need the column name from the file\n",
    "- second, we need to map the header with a common name for the final dataframe"
   ]
  },
  {
   "cell_type": "code",
   "execution_count": 37,
   "metadata": {},
   "outputs": [],
   "source": [
    "# headers dictionary\n",
    "headers = {'header_2020' : {#'Age': np.float, \n",
    "                           'ConvertedComp': np.float,\n",
    "                           'YearsCode': str,\n",
    "                           'Country': str,\n",
    "                           'JobSat': str, \n",
    "                           'LanguageWorkedWith': str\n",
    "                           },\n",
    "           'map_header_2020':{#'Age': np.float, \n",
    "                           'ConvertedComp': 'salary',\n",
    "                           'YearsCode': 'coding_experience',\n",
    "                           'Country': 'country',\n",
    "                           'JobSat': 'job_satisfaction', \n",
    "                           'LanguageWorkedWith': 'programming_lg'\n",
    "                           },\n",
    "           \n",
    "           'header_2019' : {#'Age': np.float, \n",
    "                           'ConvertedComp': np.float,\n",
    "                           'YearsCode': str,\n",
    "                           'Country': str,\n",
    "                           'JobSat': str, \n",
    "                           'LanguageWorkedWith': str\n",
    "                           },\n",
    "           'map_header_2019':{#'Age': np.float, \n",
    "                           'ConvertedComp': 'salary',\n",
    "                           'YearsCode': 'coding_experience',\n",
    "                           'Country': 'country',\n",
    "                           'JobSat': 'job_satisfaction', \n",
    "                           'LanguageWorkedWith': 'programming_lg'\n",
    "                           },\n",
    "            'header_2018' : {#'Age': str, \n",
    "                           'Salary': str,\n",
    "                           'Country': str,\n",
    "                           'JobSatisfaction': str, \n",
    "                           'YearsCoding': str,\n",
    "                           'LanguageWorkedWith': str\n",
    "                           },\n",
    "            'map_header_2018' : {#'Age': str, \n",
    "                           'Salary': 'salary',\n",
    "                           'Country': 'country',\n",
    "                           'JobSatisfaction': 'job_satisfaction', \n",
    "                           'YearsCoding': 'coding_experience',\n",
    "                           'LanguageWorkedWith': 'programming_lg'\n",
    "                           },\n",
    "            'header_2017' : {'Salary': str,\n",
    "                           'Country': str,\n",
    "                           'JobSatisfaction': str, \n",
    "                           'YearsProgram': str,\n",
    "                           'HaveWorkedLanguage': str\n",
    "                           },\n",
    "           'map_header_2017' : {'Salary': 'salary',\n",
    "                           'Country': 'country',\n",
    "                           'JobSatisfaction': 'job_satisfaction', \n",
    "                           'YearsProgram': 'coding_experience',\n",
    "                           'HaveWorkedLanguage': 'programming_lg'\n",
    "                           },\n",
    "            'header_2016' : {#'age_range': str,\n",
    "                           'salary_midpoint': str,\n",
    "                           'country': str,\n",
    "                           'job_satisfaction': str, \n",
    "                           'experience_range': str,\n",
    "                           'tech_do': str\n",
    "                           },\n",
    "           'map_header_2016' : {'salary_midpoint': 'salary',\n",
    "                           'country': 'country',\n",
    "                           'job_satisfaction': 'job_satisfaction', \n",
    "                           'experience_range': 'coding_experience',\n",
    "                           'tech_do': 'programming_lg'\n",
    "                           },\n",
    "          }"
   ]
  },
  {
   "cell_type": "code",
   "execution_count": 38,
   "metadata": {},
   "outputs": [],
   "source": [
    "# load dataframe for 2020\n",
    "df_2020 = load_df('2020')\n",
    "# load dataframe for 2019\n",
    "df_2019 = load_df('2019')\n",
    "# load dataframe for 2018\n",
    "df_2018 = load_df('2018')\n",
    "# load dataframe for 2017\n",
    "df_2017 = load_df('2017')\n",
    "# load dataframe for 2016\n",
    "df_2016 = load_df('2016')"
   ]
  },
  {
   "cell_type": "markdown",
   "metadata": {},
   "source": [
    "### A look at the data"
   ]
  },
  {
   "cell_type": "code",
   "execution_count": 39,
   "metadata": {},
   "outputs": [
    {
     "name": "stdout",
     "output_type": "stream",
     "text": [
      "<class 'pandas.core.frame.DataFrame'>\n",
      "RangeIndex: 64461 entries, 0 to 64460\n",
      "Data columns (total 6 columns):\n",
      "salary               34756 non-null float64\n",
      "country              64072 non-null object\n",
      "job_satisfaction     45194 non-null object\n",
      "programming_lg       57378 non-null object\n",
      "coding_experience    57684 non-null object\n",
      "year                 64461 non-null object\n",
      "dtypes: float64(1), object(5)\n",
      "memory usage: 1.7+ MB\n"
     ]
    }
   ],
   "source": [
    "# check out the columns for 2020\n",
    "df_2020.info()"
   ]
  },
  {
   "cell_type": "code",
   "execution_count": 40,
   "metadata": {},
   "outputs": [
    {
     "name": "stdout",
     "output_type": "stream",
     "text": [
      "<class 'pandas.core.frame.DataFrame'>\n",
      "RangeIndex: 88883 entries, 0 to 88882\n",
      "Data columns (total 6 columns):\n",
      "country              88751 non-null object\n",
      "coding_experience    87938 non-null object\n",
      "job_satisfaction     70988 non-null object\n",
      "salary               55823 non-null float64\n",
      "programming_lg       87569 non-null object\n",
      "year                 88883 non-null object\n",
      "dtypes: float64(1), object(5)\n",
      "memory usage: 2.4+ MB\n"
     ]
    }
   ],
   "source": [
    "# check out the columns for 2019\n",
    "df_2019.info()"
   ]
  },
  {
   "cell_type": "code",
   "execution_count": 41,
   "metadata": {},
   "outputs": [
    {
     "name": "stdout",
     "output_type": "stream",
     "text": [
      "<class 'pandas.core.frame.DataFrame'>\n",
      "RangeIndex: 98855 entries, 0 to 98854\n",
      "Data columns (total 6 columns):\n",
      "country              98443 non-null object\n",
      "coding_experience    93835 non-null object\n",
      "job_satisfaction     69276 non-null object\n",
      "salary               50578 non-null object\n",
      "programming_lg       78334 non-null object\n",
      "year                 98855 non-null object\n",
      "dtypes: object(6)\n",
      "memory usage: 2.3+ MB\n"
     ]
    }
   ],
   "source": [
    "# check out the columns for 2018\n",
    "df_2018.info()"
   ]
  },
  {
   "cell_type": "code",
   "execution_count": 42,
   "metadata": {},
   "outputs": [
    {
     "name": "stdout",
     "output_type": "stream",
     "text": [
      "<class 'pandas.core.frame.DataFrame'>\n",
      "RangeIndex: 51392 entries, 0 to 51391\n",
      "Data columns (total 6 columns):\n",
      "country              51392 non-null object\n",
      "coding_experience    51145 non-null object\n",
      "job_satisfaction     40376 non-null object\n",
      "programming_lg       36625 non-null object\n",
      "salary               12891 non-null object\n",
      "year                 51392 non-null object\n",
      "dtypes: object(6)\n",
      "memory usage: 1.2+ MB\n"
     ]
    }
   ],
   "source": [
    "# check out the columns for 2017\n",
    "df_2017.info()"
   ]
  },
  {
   "cell_type": "code",
   "execution_count": 43,
   "metadata": {},
   "outputs": [
    {
     "name": "stdout",
     "output_type": "stream",
     "text": [
      "<class 'pandas.core.frame.DataFrame'>\n",
      "RangeIndex: 56030 entries, 0 to 56029\n",
      "Data columns (total 6 columns):\n",
      "country              55528 non-null object\n",
      "coding_experience    49520 non-null object\n",
      "salary               41742 non-null object\n",
      "programming_lg       49025 non-null object\n",
      "job_satisfaction     40110 non-null object\n",
      "year                 56030 non-null object\n",
      "dtypes: object(6)\n",
      "memory usage: 1.3+ MB\n"
     ]
    }
   ],
   "source": [
    "# check out the columns for 2016\n",
    "df_2016.info()"
   ]
  },
  {
   "cell_type": "markdown",
   "metadata": {},
   "source": [
    "We can see that we have lot's of missing values throughout the years. Also, if we take a look at the datatypes, we can different datatypes for the same columns over the years. For example, if we take job satisfaction, in 2016, it is float and in 2017, 2018, 2019, 2020 is string. Let's find out why is this inconsistency in our data."
   ]
  },
  {
   "cell_type": "code",
   "execution_count": 44,
   "metadata": {},
   "outputs": [
    {
     "name": "stdout",
     "output_type": "stream",
     "text": [
      "<class 'pandas.core.frame.DataFrame'>\n",
      "RangeIndex: 359621 entries, 0 to 359620\n",
      "Data columns (total 6 columns):\n",
      "coding_experience    340122 non-null object\n",
      "country              358186 non-null object\n",
      "job_satisfaction     265944 non-null object\n",
      "programming_lg       308931 non-null object\n",
      "salary               195790 non-null object\n",
      "year                 359621 non-null object\n",
      "dtypes: object(6)\n",
      "memory usage: 8.2+ MB\n"
     ]
    }
   ],
   "source": [
    "# combine our dataframes into a single one\n",
    "df_all = pd.concat([df_2020, df_2019, df_2018, df_2017, df_2016], ignore_index=True, sort=True)\n",
    "df_all.info()"
   ]
  },
  {
   "cell_type": "markdown",
   "metadata": {},
   "source": [
    "### Take a look at ```job_satisfaction```"
   ]
  },
  {
   "cell_type": "code",
   "execution_count": 45,
   "metadata": {},
   "outputs": [
    {
     "data": {
      "text/html": [
       "<div>\n",
       "<style scoped>\n",
       "    .dataframe tbody tr th:only-of-type {\n",
       "        vertical-align: middle;\n",
       "    }\n",
       "\n",
       "    .dataframe tbody tr th {\n",
       "        vertical-align: top;\n",
       "    }\n",
       "\n",
       "    .dataframe thead th {\n",
       "        text-align: right;\n",
       "    }\n",
       "</style>\n",
       "<table border=\"1\" class=\"dataframe\">\n",
       "  <thead>\n",
       "    <tr style=\"text-align: right;\">\n",
       "      <th></th>\n",
       "      <th>year</th>\n",
       "      <th>job_satisfaction</th>\n",
       "    </tr>\n",
       "  </thead>\n",
       "  <tbody>\n",
       "    <tr>\n",
       "      <th>0</th>\n",
       "      <td>2016</td>\n",
       "      <td>[nan, I love my job, I don't have a job, I'm somewhat satisfied with my job, I'm somewhat dissatisfied with my job, I'm neither satisfied nor dissatisfied, Other (please specify), I hate my job]</td>\n",
       "    </tr>\n",
       "    <tr>\n",
       "      <th>1</th>\n",
       "      <td>2017</td>\n",
       "      <td>[nan, 9, 3, 8, 6, 7, 5, 4, 10, 2, 0, 1]</td>\n",
       "    </tr>\n",
       "    <tr>\n",
       "      <th>2</th>\n",
       "      <td>2018</td>\n",
       "      <td>[Extremely satisfied, Moderately dissatisfied, Moderately satisfied, Neither satisfied nor dissatisfied, Slightly satisfied, nan, Slightly dissatisfied, Extremely dissatisfied]</td>\n",
       "    </tr>\n",
       "    <tr>\n",
       "      <th>3</th>\n",
       "      <td>2019</td>\n",
       "      <td>[nan, Slightly satisfied, Slightly dissatisfied, Neither satisfied nor dissatisfied, Very satisfied, Very dissatisfied]</td>\n",
       "    </tr>\n",
       "    <tr>\n",
       "      <th>4</th>\n",
       "      <td>2020</td>\n",
       "      <td>[Slightly satisfied, Very dissatisfied, nan, Slightly dissatisfied, Very satisfied, Neither satisfied nor dissatisfied]</td>\n",
       "    </tr>\n",
       "  </tbody>\n",
       "</table>\n",
       "</div>"
      ],
      "text/plain": [
       "   year  \\\n",
       "0  2016   \n",
       "1  2017   \n",
       "2  2018   \n",
       "3  2019   \n",
       "4  2020   \n",
       "\n",
       "                                                                                                                                                                                     job_satisfaction  \n",
       "0  [nan, I love my job, I don't have a job, I'm somewhat satisfied with my job, I'm somewhat dissatisfied with my job, I'm neither satisfied nor dissatisfied, Other (please specify), I hate my job]  \n",
       "1  [nan, 9, 3, 8, 6, 7, 5, 4, 10, 2, 0, 1]                                                                                                                                                             \n",
       "2  [Extremely satisfied, Moderately dissatisfied, Moderately satisfied, Neither satisfied nor dissatisfied, Slightly satisfied, nan, Slightly dissatisfied, Extremely dissatisfied]                    \n",
       "3  [nan, Slightly satisfied, Slightly dissatisfied, Neither satisfied nor dissatisfied, Very satisfied, Very dissatisfied]                                                                             \n",
       "4  [Slightly satisfied, Very dissatisfied, nan, Slightly dissatisfied, Very satisfied, Neither satisfied nor dissatisfied]                                                                             "
      ]
     },
     "execution_count": 45,
     "metadata": {},
     "output_type": "execute_result"
    }
   ],
   "source": [
    "# groupby year and see unique values for job_satisfaction\n",
    "df_all.groupby(by=['year'])['job_satisfaction'].unique().reset_index()"
   ]
  },
  {
   "cell_type": "markdown",
   "metadata": {},
   "source": [
    "From the above data, it is clear the we have different scales for each year. In order to be able to analise a trend and make sense of our data, we have to first think of a common scale. \n",
    "\n",
    "* For 2016, 2019, 2020 it is straightforward because we have 5 steps in 2016 which corresponds to the levels in 2019 and 2020;\n",
    "* For 2017 and 2018 we have to think about new levels for job satisfaction;\n",
    "* For 2017 we have 11 steps of job satisfaction (0-10) that needs to be mapped into 5 steps;\n",
    "* For 2018 we have 7 steps of job satisfaction that needs to be mapped into 5 steps;\n",
    "\n",
    "I will analyze how or if job satisfaction relates to top three survey respondents. But first, which are top 3 countries?"
   ]
  },
  {
   "cell_type": "markdown",
   "metadata": {},
   "source": [
    "### Top 3 countries 2016-2020"
   ]
  },
  {
   "cell_type": "code",
   "execution_count": 46,
   "metadata": {},
   "outputs": [
    {
     "data": {
      "image/png": "[encoded data removed]",
      "text/plain": [
       "<Figure size 864x432 with 1 Axes>"
      ]
     },
     "metadata": {
      "needs_background": "light"
     },
     "output_type": "display_data"
    }
   ],
   "source": [
    "s = df_all['country'].groupby(df_all['year']).value_counts()\n",
    "s.groupby(level=0).nlargest(3).reset_index(level=0, drop=True).unstack(1).plot.bar(figsize=(12,6))\n",
    "plt.title(\"Top 3 countries 2016-2020\");"
   ]
  },
  {
   "cell_type": "code",
   "execution_count": 47,
   "metadata": {},
   "outputs": [
    {
     "data": {
      "image/png": "[encoded data removed]",
      "text/plain": [
       "<Figure size 864x576 with 1 Axes>"
      ]
     },
     "metadata": {
      "needs_background": "light"
     },
     "output_type": "display_data"
    }
   ],
   "source": [
    "# let's check out a line plot\n",
    "pd.DataFrame(s.groupby(level=0).nlargest(3).reset_index(level=0, \n",
    "                    drop=True)).unstack(1).plot.line(style='o-', figsize=(12,8));\n",
    "plt.title(\"Top 3 countries 2016-2020\");"
   ]
  },
  {
   "cell_type": "markdown",
   "metadata": {},
   "source": [
    "## Conclusions\n",
    "\n",
    "### Top 3 countries for software developper according to the raw, uncleaned dataset\n",
    "\n",
    "Top 3 countries for 2016-2020 is relatively constant with U.S, India, U.K. and Germany. \n",
    "- For sure, we can definitely say the U.S. is the first throughout the years. \n",
    "- India is the second for 2017-2020 but in 2016 is number three and UK is on the second place. \n",
    "- For the third place is between UK and Germany for 2017-2020. "
   ]
  },
  {
   "cell_type": "markdown",
   "metadata": {},
   "source": [
    "### Export data for later"
   ]
  },
  {
   "cell_type": "code",
   "execution_count": 48,
   "metadata": {},
   "outputs": [],
   "source": [
    "df_2016.to_csv(os.path.join(PATH_OUT, 'data_2016_raw.csv'), index=False)\n",
    "df_2017.to_csv(os.path.join(PATH_OUT, 'data_2017_raw.csv'), index=False)\n",
    "df_2018.to_csv(os.path.join(PATH_OUT, 'data_2018_raw.csv'), index=False)\n",
    "df_2019.to_csv(os.path.join(PATH_OUT, 'data_2019_raw.csv'), index=False)\n",
    "df_2020.to_csv(os.path.join(PATH_OUT, 'data_2020_raw.csv'), index=False)"
   ]
  }
 ],
 "metadata": {
  "kernelspec": {
   "display_name": "Python 3",
   "language": "python",
   "name": "python3"
  },
  "language_info": {
   "codemirror_mode": {
    "name": "ipython",
    "version": 3
   },
   "file_extension": ".py",
   "mimetype": "text/x-python",
   "name": "python",
   "nbconvert_exporter": "python",
   "pygments_lexer": "ipython3",
   "version": "3.7.0"
  }
 },
 "nbformat": 4,
 "nbformat_minor": 2
}
